{
 "cells": [
  {
   "cell_type": "code",
   "execution_count": 1,
   "metadata": {},
   "outputs": [],
   "source": [
    "from itertools import islice\n",
    "from youtube_comment_downloader import *\n",
    "downloader = YoutubeCommentDownloader()\n",
    "comments = downloader.get_comments_from_url('https://www.youtube.com/watch?v=13qTDXm12EE', sort_by=SORT_BY_POPULAR)\n"
   ]
  },
  {
   "cell_type": "code",
   "execution_count": 2,
   "metadata": {},
   "outputs": [
    {
     "name": "stdout",
     "output_type": "stream",
     "text": [
      "<generator object YoutubeCommentDownloader.get_comments_from_url at 0x000001CEF6014970>\n"
     ]
    }
   ],
   "source": [
    "data = []\n",
    "print(comments)\n",
    "for comment in islice(comments, 3000):\n",
    "    data.append(comment)"
   ]
  },
  {
   "cell_type": "code",
   "execution_count": 3,
   "metadata": {},
   "outputs": [],
   "source": [
    "import pandas\n",
    "\n",
    "df = pandas.DataFrame(data)"
   ]
  },
  {
   "cell_type": "code",
   "execution_count": 5,
   "metadata": {},
   "outputs": [
    {
     "data": {
      "text/plain": [
       "0       Turunkan tunjangan untuk DPR, alihkan untuk su...\n",
       "1       Terimakasih pak de Saya seorang tukang ojek ka...\n",
       "2       Saya sebagai rakyat kecil mendengar bbm naik s...\n",
       "3       Terima kasih banyak Pak Jokowi. Kebijakan Bapa...\n",
       "4       Semoga Allah SWT memudahkan semua urusan rakya...\n",
       "                              ...                        \n",
       "2995    Pupuk subsidi langka,,, \\nBBM naik,,, \\nHarga ...\n",
       "2996    Saya berharap bbm turun. Kasihan anak kost di ...\n",
       "2997    saran saya daripada ngasih BLT yg tidak merata...\n",
       "2998                          Presiden blusukan mantapp 😂\n",
       "2999    Dari dulu hingga skarang sama harga bukn turun...\n",
       "Name: text, Length: 3000, dtype: object"
      ]
     },
     "execution_count": 5,
     "metadata": {},
     "output_type": "execute_result"
    }
   ],
   "source": []
  },
  {
   "cell_type": "code",
   "execution_count": 6,
   "metadata": {},
   "outputs": [],
   "source": [
    "dataset = df.iloc[:,1:4]"
   ]
  },
  {
   "cell_type": "code",
   "execution_count": 7,
   "metadata": {},
   "outputs": [],
   "source": [
    "dataset = dataset.drop('time', axis=1)"
   ]
  },
  {
   "cell_type": "code",
   "execution_count": 10,
   "metadata": {},
   "outputs": [
    {
     "data": {
      "text/html": [
       "<div>\n",
       "<style scoped>\n",
       "    .dataframe tbody tr th:only-of-type {\n",
       "        vertical-align: middle;\n",
       "    }\n",
       "\n",
       "    .dataframe tbody tr th {\n",
       "        vertical-align: top;\n",
       "    }\n",
       "\n",
       "    .dataframe thead th {\n",
       "        text-align: right;\n",
       "    }\n",
       "</style>\n",
       "<table border=\"1\" class=\"dataframe\">\n",
       "  <thead>\n",
       "    <tr style=\"text-align: right;\">\n",
       "      <th></th>\n",
       "      <th>text</th>\n",
       "      <th>author</th>\n",
       "    </tr>\n",
       "  </thead>\n",
       "  <tbody>\n",
       "    <tr>\n",
       "      <th>0</th>\n",
       "      <td>Turunkan tunjangan untuk DPR, alihkan untuk su...</td>\n",
       "      <td>abu studio chanel</td>\n",
       "    </tr>\n",
       "    <tr>\n",
       "      <th>1</th>\n",
       "      <td>Terimakasih pak de Saya seorang tukang ojek ka...</td>\n",
       "      <td>al rozaq</td>\n",
       "    </tr>\n",
       "    <tr>\n",
       "      <th>2</th>\n",
       "      <td>Saya sebagai rakyat kecil mendengar bbm naik s...</td>\n",
       "      <td>Davin Davin</td>\n",
       "    </tr>\n",
       "    <tr>\n",
       "      <th>3</th>\n",
       "      <td>Terima kasih banyak Pak Jokowi. Kebijakan Bapa...</td>\n",
       "      <td>Zul Haqqi</td>\n",
       "    </tr>\n",
       "    <tr>\n",
       "      <th>4</th>\n",
       "      <td>Semoga Allah SWT memudahkan semua urusan rakya...</td>\n",
       "      <td>R.E. Handhita</td>\n",
       "    </tr>\n",
       "    <tr>\n",
       "      <th>...</th>\n",
       "      <td>...</td>\n",
       "      <td>...</td>\n",
       "    </tr>\n",
       "    <tr>\n",
       "      <th>2995</th>\n",
       "      <td>Pupuk subsidi langka,,, \\nBBM naik,,, \\nHarga ...</td>\n",
       "      <td>Heru Purnomo</td>\n",
       "    </tr>\n",
       "    <tr>\n",
       "      <th>2996</th>\n",
       "      <td>Saya berharap bbm turun. Kasihan anak kost di ...</td>\n",
       "      <td>Nerry_shop</td>\n",
       "    </tr>\n",
       "    <tr>\n",
       "      <th>2997</th>\n",
       "      <td>saran saya daripada ngasih BLT yg tidak merata...</td>\n",
       "      <td>jubez gaming</td>\n",
       "    </tr>\n",
       "    <tr>\n",
       "      <th>2998</th>\n",
       "      <td>Presiden blusukan mantapp 😂</td>\n",
       "      <td>dea bagas</td>\n",
       "    </tr>\n",
       "    <tr>\n",
       "      <th>2999</th>\n",
       "      <td>Dari dulu hingga skarang sama harga bukn turun...</td>\n",
       "      <td>Jono no</td>\n",
       "    </tr>\n",
       "  </tbody>\n",
       "</table>\n",
       "<p>3000 rows × 2 columns</p>\n",
       "</div>"
      ],
      "text/plain": [
       "                                                   text             author\n",
       "0     Turunkan tunjangan untuk DPR, alihkan untuk su...  abu studio chanel\n",
       "1     Terimakasih pak de Saya seorang tukang ojek ka...           al rozaq\n",
       "2     Saya sebagai rakyat kecil mendengar bbm naik s...        Davin Davin\n",
       "3     Terima kasih banyak Pak Jokowi. Kebijakan Bapa...          Zul Haqqi\n",
       "4     Semoga Allah SWT memudahkan semua urusan rakya...      R.E. Handhita\n",
       "...                                                 ...                ...\n",
       "2995  Pupuk subsidi langka,,, \\nBBM naik,,, \\nHarga ...       Heru Purnomo\n",
       "2996  Saya berharap bbm turun. Kasihan anak kost di ...         Nerry_shop\n",
       "2997  saran saya daripada ngasih BLT yg tidak merata...       jubez gaming\n",
       "2998                        Presiden blusukan mantapp 😂          dea bagas\n",
       "2999  Dari dulu hingga skarang sama harga bukn turun...            Jono no\n",
       "\n",
       "[3000 rows x 2 columns]"
      ]
     },
     "execution_count": 10,
     "metadata": {},
     "output_type": "execute_result"
    }
   ],
   "source": [
    "dataset"
   ]
  },
  {
   "cell_type": "code",
   "execution_count": 11,
   "metadata": {},
   "outputs": [],
   "source": [
    "dataset.to_json('dataset.json', orient='records')\n"
   ]
  },
  {
   "cell_type": "code",
   "execution_count": 9,
   "metadata": {},
   "outputs": [],
   "source": [
    "dataset.to_csv('dataset.csv')"
   ]
  }
 ],
 "metadata": {
  "kernelspec": {
   "display_name": "Python 3.9.7 64-bit",
   "language": "python",
   "name": "python3"
  },
  "language_info": {
   "codemirror_mode": {
    "name": "ipython",
    "version": 3
   },
   "file_extension": ".py",
   "mimetype": "text/x-python",
   "name": "python",
   "nbconvert_exporter": "python",
   "pygments_lexer": "ipython3",
   "version": "3.9.7"
  },
  "orig_nbformat": 4,
  "vscode": {
   "interpreter": {
    "hash": "df15aba01cad53e519ddd0ed5c2ff79632f75579aad31d70b3fb2ecc510f83fe"
   }
  }
 },
 "nbformat": 4,
 "nbformat_minor": 2
}
