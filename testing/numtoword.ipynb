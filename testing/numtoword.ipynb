{
 "cells": [
  {
   "cell_type": "code",
   "execution_count": 14,
   "metadata": {},
   "outputs": [],
   "source": [
    "from num2words import num2words\n",
    "import re\n"
   ]
  },
  {
   "cell_type": "code",
   "execution_count": 32,
   "metadata": {},
   "outputs": [],
   "source": [
    "kalimat = \"Umur saya 22 tahu. bapak2 makan sate. nilai saya 90,5. gaji saya 100 jt. gaji saya 100000000\""
   ]
  },
  {
   "cell_type": "code",
   "execution_count": 33,
   "metadata": {},
   "outputs": [
    {
     "name": "stdout",
     "output_type": "stream",
     "text": [
      "kalimat = Umur saya 22 tahu. bapak2 makan sate. nilai saya 90,5. gaji saya 100 jt. gaji saya 100000000\n",
      "menjadi = Umur saya dua puluh dua tahu. bapak2 makan sate. nilai saya 90,5. gaji saya seratus jt. gaji saya seratus juta\n"
     ]
    }
   ],
   "source": [
    "kata = kalimat.split()\n",
    "hasil =[]\n",
    "k = 0\n",
    "for i in kata:\n",
    "    k = k + 1\n",
    "    if i.isdigit():\n",
    "        h = num2words(int(i), lang='id').split()\n",
    "        hasil.extend(h)\n",
    "        continue\n",
    "    hasil.extend([i])\n",
    "\n",
    "\n",
    "print(f\"kalimat = {kalimat}\")\n",
    "print(f\"menjadi = \"+' '.join(hasil))"
   ]
  }
 ],
 "metadata": {
  "kernelspec": {
   "display_name": "Python 3.9.7 64-bit",
   "language": "python",
   "name": "python3"
  },
  "language_info": {
   "codemirror_mode": {
    "name": "ipython",
    "version": 3
   },
   "file_extension": ".py",
   "mimetype": "text/x-python",
   "name": "python",
   "nbconvert_exporter": "python",
   "pygments_lexer": "ipython3",
   "version": "3.9.7 (tags/v3.9.7:1016ef3, Aug 30 2021, 20:19:38) [MSC v.1929 64 bit (AMD64)]"
  },
  "orig_nbformat": 4,
  "vscode": {
   "interpreter": {
    "hash": "df15aba01cad53e519ddd0ed5c2ff79632f75579aad31d70b3fb2ecc510f83fe"
   }
  }
 },
 "nbformat": 4,
 "nbformat_minor": 2
}
