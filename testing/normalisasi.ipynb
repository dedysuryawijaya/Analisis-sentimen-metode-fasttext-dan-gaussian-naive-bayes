{
 "cells": [
  {
   "cell_type": "code",
   "execution_count": 1,
   "metadata": {},
   "outputs": [],
   "source": [
    "import pandas as pd\n",
    "import numpy as np\n",
    "import json"
   ]
  },
  {
   "cell_type": "code",
   "execution_count": 9,
   "metadata": {},
   "outputs": [],
   "source": [
    "def load_dataset_normalization():\n",
    "        load_word = pd.read_csv('normalisasi/normalisasi2.csv')\n",
    "        normal_word_dict = {}\n",
    "        for index, row in load_word.iterrows():\n",
    "            if row[0] not in normal_word_dict:\n",
    "                normal_word_dict[row[0]] = row[1]\n",
    "        return normal_word_dict\n",
    "\n",
    "def normalisasi(data):\n",
    "        word_dict = load_dataset_normalization()\n",
    "        return [word_dict[term] if term in word_dict else term for term in data]"
   ]
  },
  {
   "cell_type": "code",
   "execution_count": 6,
   "metadata": {},
   "outputs": [
    {
     "data": {
      "text/html": [
       "<div>\n",
       "<style scoped>\n",
       "    .dataframe tbody tr th:only-of-type {\n",
       "        vertical-align: middle;\n",
       "    }\n",
       "\n",
       "    .dataframe tbody tr th {\n",
       "        vertical-align: top;\n",
       "    }\n",
       "\n",
       "    .dataframe thead th {\n",
       "        text-align: right;\n",
       "    }\n",
       "</style>\n",
       "<table border=\"1\" class=\"dataframe\">\n",
       "  <thead>\n",
       "    <tr style=\"text-align: right;\">\n",
       "      <th></th>\n",
       "      <th>text</th>\n",
       "      <th>author</th>\n",
       "      <th>cleantext</th>\n",
       "      <th>tokenized</th>\n",
       "      <th>stemming</th>\n",
       "      <th>polarity</th>\n",
       "      <th>labels</th>\n",
       "    </tr>\n",
       "  </thead>\n",
       "  <tbody>\n",
       "    <tr>\n",
       "      <th>0</th>\n",
       "      <td>Turunkan tunjangan untuk DPR, alihkan untuk su...</td>\n",
       "      <td>abu studio chanel</td>\n",
       "      <td>turunkan tunjangan untuk dpr alihkan untuk sub...</td>\n",
       "      <td>[turunkan, tunjangan, untuk, dpr, alihkan, unt...</td>\n",
       "      <td>[turun, tunjang, untuk, dpr, alih, untuk, subs...</td>\n",
       "      <td>0.7906</td>\n",
       "      <td>positif</td>\n",
       "    </tr>\n",
       "    <tr>\n",
       "      <th>1</th>\n",
       "      <td>Terimakasih pak de Saya seorang tukang ojek ka...</td>\n",
       "      <td>al rozaq</td>\n",
       "      <td>terimakasih pak de saya seorang tukang ojek ka...</td>\n",
       "      <td>[terimakasih, pak, de, saya, seorang, tukang, ...</td>\n",
       "      <td>[terimakasih, pak, de, saya, orang, tukang, oj...</td>\n",
       "      <td>0.6124</td>\n",
       "      <td>positif</td>\n",
       "    </tr>\n",
       "    <tr>\n",
       "      <th>2</th>\n",
       "      <td>Saya sebagai rakyat kecil mendengar bbm naik s...</td>\n",
       "      <td>Davin Davin</td>\n",
       "      <td>saya sebagai rakyat kecil mendengar bbm naik s...</td>\n",
       "      <td>[saya, sebagai, rakyat, kecil, mendengar, bbm,...</td>\n",
       "      <td>[saya, bagai, rakyat, kecil, dengar, bbm, naik...</td>\n",
       "      <td>-0.4588</td>\n",
       "      <td>negatif</td>\n",
       "    </tr>\n",
       "    <tr>\n",
       "      <th>3</th>\n",
       "      <td>Terima kasih banyak Pak Jokowi. Kebijakan Bapa...</td>\n",
       "      <td>Zul Haqqi</td>\n",
       "      <td>terima kasih banyak pak jokowi kebijakan bapak...</td>\n",
       "      <td>[terima, kasih, banyak, pak, jokowi, kebijakan...</td>\n",
       "      <td>[terima, kasih, banyak, pak, jokowi, bijak, ba...</td>\n",
       "      <td>0.9682</td>\n",
       "      <td>positif</td>\n",
       "    </tr>\n",
       "    <tr>\n",
       "      <th>4</th>\n",
       "      <td>Semoga Allah SWT memudahkan semua urusan rakya...</td>\n",
       "      <td>R.E. Handhita</td>\n",
       "      <td>semoga allah swt memudahkan semua urusan rakya...</td>\n",
       "      <td>[semoga, allah, swt, memudahkan, semua, urusan...</td>\n",
       "      <td>[moga, allah, swt, mudah, semua, urus, rakyat,...</td>\n",
       "      <td>0.6124</td>\n",
       "      <td>positif</td>\n",
       "    </tr>\n",
       "  </tbody>\n",
       "</table>\n",
       "</div>"
      ],
      "text/plain": [
       "                                                text             author  \\\n",
       "0  Turunkan tunjangan untuk DPR, alihkan untuk su...  abu studio chanel   \n",
       "1  Terimakasih pak de Saya seorang tukang ojek ka...           al rozaq   \n",
       "2  Saya sebagai rakyat kecil mendengar bbm naik s...        Davin Davin   \n",
       "3  Terima kasih banyak Pak Jokowi. Kebijakan Bapa...          Zul Haqqi   \n",
       "4  Semoga Allah SWT memudahkan semua urusan rakya...      R.E. Handhita   \n",
       "\n",
       "                                           cleantext  \\\n",
       "0  turunkan tunjangan untuk dpr alihkan untuk sub...   \n",
       "1  terimakasih pak de saya seorang tukang ojek ka...   \n",
       "2  saya sebagai rakyat kecil mendengar bbm naik s...   \n",
       "3  terima kasih banyak pak jokowi kebijakan bapak...   \n",
       "4  semoga allah swt memudahkan semua urusan rakya...   \n",
       "\n",
       "                                           tokenized  \\\n",
       "0  [turunkan, tunjangan, untuk, dpr, alihkan, unt...   \n",
       "1  [terimakasih, pak, de, saya, seorang, tukang, ...   \n",
       "2  [saya, sebagai, rakyat, kecil, mendengar, bbm,...   \n",
       "3  [terima, kasih, banyak, pak, jokowi, kebijakan...   \n",
       "4  [semoga, allah, swt, memudahkan, semua, urusan...   \n",
       "\n",
       "                                            stemming  polarity   labels  \n",
       "0  [turun, tunjang, untuk, dpr, alih, untuk, subs...    0.7906  positif  \n",
       "1  [terimakasih, pak, de, saya, orang, tukang, oj...    0.6124  positif  \n",
       "2  [saya, bagai, rakyat, kecil, dengar, bbm, naik...   -0.4588  negatif  \n",
       "3  [terima, kasih, banyak, pak, jokowi, bijak, ba...    0.9682  positif  \n",
       "4  [moga, allah, swt, mudah, semua, urus, rakyat,...    0.6124  positif  "
      ]
     },
     "execution_count": 6,
     "metadata": {},
     "output_type": "execute_result"
    }
   ],
   "source": [
    "df = pd.read_json('datalabels_stemming.json')\n",
    "df.head()"
   ]
  },
  {
   "cell_type": "code",
   "execution_count": 7,
   "metadata": {},
   "outputs": [],
   "source": [
    "y = df['tokenized'].apply(normalisasi)"
   ]
  },
  {
   "cell_type": "code",
   "execution_count": 8,
   "metadata": {},
   "outputs": [
    {
     "data": {
      "text/plain": [
       "0       [turunkan, tunjangan, untuk, dpr, alihkan, unt...\n",
       "1       [terimakasih, bapak, de, saya, seorang, tukang...\n",
       "2       [saya, sebagai, rakyat, kecil, mendengar, bbm,...\n",
       "3       [terima, kasih, banyak, bapak, jokowi, kebijak...\n",
       "4       [semoga, allah, swt, memudahkan, semua, urusan...\n",
       "                              ...                        \n",
       "2995    [pupuk, subsidi, langka, bbm, naik, harga, gab...\n",
       "2996    [saya, berharap, bbm, turun, kasihan, anak, ko...\n",
       "2997    [saran, saya, daripada, ngasih, blt, yang, tid...\n",
       "2998                        [presiden, blusukan, mantapp]\n",
       "2999    [dari, dulu, hingga, skarang, sama, harga, buk...\n",
       "Name: tokenized, Length: 3000, dtype: object"
      ]
     },
     "execution_count": 8,
     "metadata": {},
     "output_type": "execute_result"
    }
   ],
   "source": [
    "y"
   ]
  }
 ],
 "metadata": {
  "kernelspec": {
   "display_name": "Python 3",
   "language": "python",
   "name": "python3"
  },
  "language_info": {
   "codemirror_mode": {
    "name": "ipython",
    "version": 3
   },
   "file_extension": ".py",
   "mimetype": "text/x-python",
   "name": "python",
   "nbconvert_exporter": "python",
   "pygments_lexer": "ipython3",
   "version": "3.9.7"
  },
  "orig_nbformat": 4
 },
 "nbformat": 4,
 "nbformat_minor": 2
}
